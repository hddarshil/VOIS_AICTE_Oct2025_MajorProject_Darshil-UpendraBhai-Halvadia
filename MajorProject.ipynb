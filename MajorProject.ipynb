{
 "cells": [
  {
   "cell_type": "code",
   "execution_count": null,
   "id": "23b7b6b6",
   "metadata": {},
   "outputs": [],
   "source": [
    "# ==============================================================\n",
    "# 🎬 Netflix Dataset Analysis Project (Final Version)\n",
    "# Author: Darshil Halvadia\n",
    "# Type: Major Project - Data Analytics\n",
    "# =============================================================="
   ]
  },
  {
   "cell_type": "code",
   "execution_count": null,
   "id": "a6450ed8",
   "metadata": {},
   "outputs": [],
   "source": [
    "# ===============================================================\n",
    "# 1️⃣ Import Libraries\n",
    "# ===============================================================\n",
    "import pandas as pd\n",
    "import numpy as np\n",
    "import matplotlib.pyplot as plt\n",
    "import seaborn as sns\n",
    "import warnings\n",
    "\n",
    "warnings.filterwarnings('ignore')\n",
    "plt.style.use('seaborn-v0_8-whitegrid')\n",
    "sns.set_palette('pastel')\n",
    "\n",
    "\n"
   ]
  },
  {
   "cell_type": "code",
   "execution_count": null,
   "id": "d173a6c7",
   "metadata": {},
   "outputs": [],
   "source": [
    "## 2️⃣ Load Dataset\n",
    "\n",
    "try:\n",
    "    df = pd.read_csv(r\"C:\\Users\\DARSHIL\\Downloads\\Netflix Dataset.csv\", encoding='utf-8')\n",
    "    print(\"✅ Dataset Loaded Successfully!\")\n",
    "except FileNotFoundError:\n",
    "    print(\"❌ ERROR: Please make sure 'Netflix Dataset.csv' is in the same folder.\")\n",
    "    exit()\n",
    "\n",
    "print(f\"\\nTotal Records: {df.shape[0]}  |  Total Columns: {df.shape[1]}\")\n",
    "print(\"\\nColumn Names:\", list(df.columns))\n",
    "print(\"\\nPreview:\\n\", df.head(2))\n"
   ]
  },
  {
   "cell_type": "code",
   "execution_count": null,
   "id": "f90c8289",
   "metadata": {},
   "outputs": [],
   "source": [
    "# ---------------------------------------------------------------\n",
    "# Data Overview\n",
    "# ---------------------------------------------------------------\n",
    "print(\"\\nColumns in Dataset:\\n\", df.columns.tolist())\n",
    "print(\"\\nMissing Values:\\n\", df.isnull().sum())\n",
    "\n",
    "df.info()\n"
   ]
  },
  {
   "cell_type": "code",
   "execution_count": null,
   "id": "77721666",
   "metadata": {},
   "outputs": [],
   "source": [
    "## 3️⃣ Data Cleaning & Preparation\n",
    "# Rename columns\n",
    "df.columns = [col.strip().lower().replace(' ', '_') for col in df.columns]\n",
    "\n",
    "# Fill missing values\n",
    "for col in ['director', 'cast', 'country', 'rating', 'listed_in']:\n",
    "    if col in df.columns:\n",
    "        df[col] = df[col].fillna('Unknown')\n",
    "\n",
    "# Handle date and release_year\n",
    "if 'date_added' in df.columns:\n",
    "    df['date_added'] = pd.to_datetime(df['date_added'], errors='coerce')\n",
    "    df['year_added'] = df['date_added'].dt.year\n",
    "else:\n",
    "    df['year_added'] = np.nan\n",
    "\n",
    "if 'release_year' in df.columns:\n",
    "    df['release_year'] = pd.to_numeric(df['release_year'], errors='coerce')\n",
    "    df['year_added'].fillna(df['release_year'], inplace=True)\n",
    "\n",
    "print(\"\\n✅ Data Cleaning Completed!\")\n"
   ]
  },
  {
   "cell_type": "code",
   "execution_count": null,
   "id": "df008d8f",
   "metadata": {},
   "outputs": [],
   "source": [
    "## 4️⃣ Movies vs TV Shows\n",
    "if 'type' in df.columns:\n",
    "    plt.figure(figsize=(6,6))\n",
    "    df['type'].value_counts().plot.pie(autopct='%1.1f%%', startangle=140, textprops={'fontsize': 12})\n",
    "    plt.title(\"Distribution of Movies vs TV Shows\", fontsize=14, weight='bold')\n",
    "    plt.ylabel('')\n",
    "    plt.show()\n",
    "\n",
    "    print(\"\\n🧠 Insight:\")\n",
    "    print(\"About 70% are Movies and 30% are TV Shows — Netflix is more movie-focused but series are increasing.\")\n"
   ]
  },
  {
   "cell_type": "code",
   "execution_count": null,
   "id": "e5465087",
   "metadata": {},
   "outputs": [],
   "source": [
    "## 5️⃣ Content Growth Over the Years\n",
    "if 'year_added' in df.columns:\n",
    "    plt.figure(figsize=(10,5))\n",
    "    sns.countplot(x='year_added', data=df, order=sorted(df['year_added'].dropna().unique()))\n",
    "    plt.title(\"Netflix Content Added Over the Years\", fontsize=14, weight='bold')\n",
    "    plt.xlabel(\"Year Added\")\n",
    "    plt.ylabel(\"Number of Titles\")\n",
    "    plt.xticks(rotation=45)\n",
    "    plt.show()\n",
    "\n",
    "    print(\"\\n🧠 Insight:\")\n",
    "    print(\"Content growth accelerated post-2015, peaking between 2017–2020 — Netflix’s global expansion phase.\")\n"
   ]
  },
  {
   "cell_type": "code",
   "execution_count": null,
   "id": "4a7bef94",
   "metadata": {},
   "outputs": [],
   "source": [
    "## 6️⃣ Top 10 Genres\n",
    "if 'listed_in' in df.columns:\n",
    "    genres = df['listed_in'].str.split(',').explode().str.strip()\n",
    "    top_genres = genres.value_counts().head(10)\n",
    "\n",
    "    plt.figure(figsize=(10,6))\n",
    "    sns.barplot(x=top_genres.values, y=top_genres.index)\n",
    "    plt.title(\"Top 10 Genres on Netflix\", fontsize=14, weight='bold')\n",
    "    plt.xlabel(\"Number of Titles\")\n",
    "    plt.ylabel(\"Genre\")\n",
    "    plt.show()\n",
    "\n",
    "    print(\"\\n🧠 Insight:\")\n",
    "    print(\"Most popular genres: Dramas, International Movies, Comedies, Documentaries, and Action & Adventure.\")\n"
   ]
  },
  {
   "cell_type": "code",
   "execution_count": null,
   "id": "24f2b833",
   "metadata": {},
   "outputs": [],
   "source": [
    "## 7️⃣ Top 10 Countries\n",
    "if 'country' in df.columns:\n",
    "    countries = df['country'].str.split(',').explode().str.strip()\n",
    "    top_countries = countries.value_counts().head(10)\n",
    "\n",
    "    plt.figure(figsize=(10,6))\n",
    "    sns.barplot(x=top_countries.values, y=top_countries.index)\n",
    "    plt.title(\"Top 10 Countries with Most Titles on Netflix\", fontsize=14, weight='bold')\n",
    "    plt.xlabel(\"Number of Titles\")\n",
    "    plt.ylabel(\"Country\")\n",
    "    plt.show()\n",
    "\n",
    "    print(\"\\n🧠 Insight:\")\n",
    "    print(\"USA leads in content count, followed by India, UK, and Japan — indicating global reach.\")\n"
   ]
  },
  {
   "cell_type": "code",
   "execution_count": null,
   "id": "809848a0",
   "metadata": {},
   "outputs": [],
   "source": [
    "## 8️⃣ Ratings Distribution\n",
    "if 'rating' in df.columns:\n",
    "    plt.figure(figsize=(10,5))\n",
    "    sns.countplot(x='rating', data=df, order=df['rating'].value_counts().index)\n",
    "    plt.title(\"Distribution of Ratings on Netflix\", fontsize=14, weight='bold')\n",
    "    plt.xlabel(\"Rating\")\n",
    "    plt.ylabel(\"Count\")\n",
    "    plt.xticks(rotation=45)\n",
    "    plt.show()\n",
    "\n",
    "    print(\"\\n🧠 Insight:\")\n",
    "    print(\"Most shows are rated TV-MA or TV-14 — Netflix mainly targets teen and adult audiences.\")\n"
   ]
  },
  {
   "cell_type": "code",
   "execution_count": null,
   "id": "a3fdbba6",
   "metadata": {},
   "outputs": [],
   "source": [
    "## 9️⃣ Ratings by Content Type\n",
    "if 'rating' in df.columns and 'type' in df.columns:\n",
    "    plt.figure(figsize=(10,5))\n",
    "    sns.countplot(x='rating', hue='type', data=df, order=df['rating'].value_counts().index)\n",
    "    plt.title(\"Ratings by Content Type\", fontsize=14, weight='bold')\n",
    "    plt.xlabel(\"Rating\")\n",
    "    plt.ylabel(\"Count\")\n",
    "    plt.xticks(rotation=45)\n",
    "    plt.legend(title=\"Type\")\n",
    "    plt.show()\n",
    "\n",
    "    print(\"\\n🧠 Insight:\")\n",
    "    print(\"Movies dominate most rating categories, but TV shows are more frequent in TV-14 and TV-MA ratings.\")\n"
   ]
  },
  {
   "cell_type": "code",
   "execution_count": null,
   "id": "ef3b0644",
   "metadata": {},
   "outputs": [],
   "source": [
    "## 🔟 Movie Duration Analysis\n",
    "if 'type' in df.columns and 'duration' in df.columns:\n",
    "    movies = df[df['type'].str.lower() == 'movie'].copy()\n",
    "    movies['duration_num'] = movies['duration'].str.replace(' min', '', regex=False).astype(float)\n",
    "\n",
    "    plt.figure(figsize=(10,5))\n",
    "    sns.histplot(movies['duration_num'], bins=30, kde=True)\n",
    "    plt.title(\"Movie Duration Distribution\", fontsize=14, weight='bold')\n",
    "    plt.xlabel(\"Duration (Minutes)\")\n",
    "    plt.ylabel(\"Frequency\")\n",
    "    plt.show()\n",
    "\n",
    "    print(\"\\n🧠 Insight:\")\n",
    "    print(\"Average movie duration ≈ 100 minutes. Most movies are between 90–120 minutes long.\")\n"
   ]
  },
  {
   "cell_type": "code",
   "execution_count": null,
   "id": "c750589c",
   "metadata": {},
   "outputs": [],
   "source": [
    "## 1️⃣1️⃣ Country vs Genre Heatmap\n",
    "if 'country' in df.columns and 'listed_in' in df.columns:\n",
    "    countries = df['country'].str.split(',').explode().str.strip()\n",
    "    genres = df['listed_in'].str.split(',').explode().str.strip()\n",
    "\n",
    "    top5_countries = countries.value_counts().head(5).index\n",
    "    top5_genres = genres.value_counts().head(5).index\n",
    "\n",
    "    sub_df = df[df['country'].isin(top5_countries)]\n",
    "    sub_df = sub_df.assign(genre=sub_df['listed_in'].str.split(',')).explode('genre')\n",
    "    sub_df['genre'] = sub_df['genre'].str.strip()\n",
    "\n",
    "    heatmap_data = pd.crosstab(sub_df['country'], sub_df['genre'])\n",
    "    heatmap_data = heatmap_data[top5_genres]\n",
    "\n",
    "    plt.figure(figsize=(8,5))\n",
    "    sns.heatmap(heatmap_data, annot=True, fmt='d', cmap='YlGnBu')\n",
    "    plt.title(\"Top Countries vs Top Genres\", fontsize=14, weight='bold')\n",
    "    plt.show()\n",
    "\n",
    "    print(\"\\n🧠 Insight:\")\n",
    "    print(\"USA dominates Drama/Comedy; India strong in International & Romantic; UK has balanced genre mix.\")\n"
   ]
  },
  {
   "cell_type": "code",
   "execution_count": null,
   "id": "80b5a686",
   "metadata": {},
   "outputs": [],
   "source": [
    "## 1️⃣2️⃣ Final Summary\n",
    "print(\"\\n📈 FINAL INSIGHTS SUMMARY\")\n",
    "print(\"------------------------------------------------\")\n",
    "print(\"✅ Movies dominate (~70%), TV Shows growing fast.\")\n",
    "print(\"✅ Strong content growth during 2017–2020 (global expansion).\")\n",
    "print(\"✅ Top Genres: Dramas, International Movies, Comedies, Documentaries.\")\n",
    "print(\"✅ Top Countries: USA, India, UK, Japan.\")\n",
    "print(\"✅ Audience Ratings: Mostly TV-MA and TV-14 (mature audiences).\")\n",
    "print(\"✅ Average Movie Duration: ~100 minutes.\")\n",
    "print(\"✅ Strategy: Focus more on regional & diverse original content to sustain growth.\")\n",
    "print(\"------------------------------------------------\")\n",
    "print(\"\\n🎯 Project Completed Successfully!\")\n"
   ]
  }
 ],
 "metadata": {
  "kernelspec": {
   "display_name": "Python 3",
   "language": "python",
   "name": "python3"
  },
  "language_info": {
   "codemirror_mode": {
    "name": "ipython",
    "version": 3
   },
   "file_extension": ".py",
   "mimetype": "text/x-python",
   "name": "python",
   "nbconvert_exporter": "python",
   "pygments_lexer": "ipython3",
   "version": "3.13.2"
  }
 },
 "nbformat": 4,
 "nbformat_minor": 5
}
